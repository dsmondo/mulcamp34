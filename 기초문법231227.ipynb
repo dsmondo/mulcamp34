{
  "nbformat": 4,
  "nbformat_minor": 0,
  "metadata": {
    "colab": {
      "provenance": [],
      "toc_visible": true,
      "authorship_tag": "ABX9TyO3B3sOPSvXZm3EP40U8loe",
      "include_colab_link": true
    },
    "kernelspec": {
      "name": "python3",
      "display_name": "Python 3"
    },
    "language_info": {
      "name": "python"
    }
  },
  "cells": [
    {
      "cell_type": "markdown",
      "metadata": {
        "id": "view-in-github",
        "colab_type": "text"
      },
      "source": [
        "<a href=\"https://colab.research.google.com/github/yewon91/mulcamp34/blob/main/%EA%B8%B0%EC%B4%88%EB%AC%B8%EB%B2%95231227.ipynb\" target=\"_parent\"><img src=\"https://colab.research.google.com/assets/colab-badge.svg\" alt=\"Open In Colab\"/></a>"
      ]
    },
    {
      "cell_type": "markdown",
      "source": [
        "# Chapter 3. 파이썬을 계산기처럼"
      ],
      "metadata": {
        "id": "J32DCXhtum_G"
      }
    },
    {
      "cell_type": "markdown",
      "source": [
        "## 사칙연산"
      ],
      "metadata": {
        "id": "IzRRXUo7utJl"
      }
    },
    {
      "cell_type": "code",
      "execution_count": 1,
      "metadata": {
        "colab": {
          "base_uri": "https://localhost:8080/"
        },
        "id": "gk4cYSA5nvCM",
        "outputId": "8b5917e6-9091-464b-e434-8ff701eb45a8"
      },
      "outputs": [
        {
          "output_type": "execute_result",
          "data": {
            "text/plain": [
              "2"
            ]
          },
          "metadata": {},
          "execution_count": 1
        }
      ],
      "source": [
        "1+1"
      ]
    },
    {
      "cell_type": "code",
      "source": [
        "# 나눗셈\n",
        "# Python 3.x 버전은 실수로 처리\n",
        "# Python 2.x 버전은 정수로 처리\n",
        "10/2    # 정수/정수 ==> 반환값 실수형으로 반환\n"
      ],
      "metadata": {
        "colab": {
          "base_uri": "https://localhost:8080/"
        },
        "id": "vtffTg4QrYNV",
        "outputId": "817ecea7-2e78-4581-bb6f-d3d8ad9451ff"
      },
      "execution_count": 2,
      "outputs": [
        {
          "output_type": "execute_result",
          "data": {
            "text/plain": [
              "5.0"
            ]
          },
          "metadata": {},
          "execution_count": 2
        }
      ]
    },
    {
      "cell_type": "markdown",
      "source": [
        "- 실수 연산"
      ],
      "metadata": {
        "id": "7rd1BEIbsPz6"
      }
    },
    {
      "cell_type": "code",
      "source": [
        "# print() - 웹개발 IDE 환경에서 필수\n",
        "print(1.2 + 5.2) # 덧셈\n",
        "print(2.1 - 1.3) # 뺄셈"
      ],
      "metadata": {
        "id": "yx7nhPUCsR5V"
      },
      "execution_count": null,
      "outputs": []
    },
    {
      "cell_type": "markdown",
      "source": [
        "### 연산 규칙\n",
        "- (1) 괄호안 계산\n",
        "- (2) 지수 계산\n",
        "- (3) 곱셈과 나눗셈 계산\n",
        "- (4) 덧셈과 뺄셈 계산\n",
        "- (5) 같은 순위 연산이면, 왼쪽에서 오른쪽으로\n",
        "- (6) 중복된 괄호가 있을 경우, 안쪽에서부터 처리\n"
      ],
      "metadata": {
        "id": "yn1ZBaSNte78"
      }
    },
    {
      "cell_type": "code",
      "source": [
        "3 / 2 * 4 - 5 / 2"
      ],
      "metadata": {
        "colab": {
          "base_uri": "https://localhost:8080/"
        },
        "id": "IWq8RNKLt5IS",
        "outputId": "635075ac-df27-4bbf-fe55-6519f0166f68"
      },
      "execution_count": 4,
      "outputs": [
        {
          "output_type": "execute_result",
          "data": {
            "text/plain": [
              "3.5"
            ]
          },
          "metadata": {},
          "execution_count": 4
        }
      ]
    },
    {
      "cell_type": "markdown",
      "source": [
        "## type()\n",
        "- 함수 : 특정 기능을 수행하도록 만든 매직박스\n",
        " + 특정함수를 조건만 만들어주면 동작\n",
        ""
      ],
      "metadata": {
        "id": "9JVI8poIzgn9"
      }
    },
    {
      "cell_type": "markdown",
      "source": [
        "함수의 종류\n",
        "- 내장(built-in) 함수 : 파이썬 설치와 함께 제공하는 기본적인 함수\n",
        " + print(), type()\n",
        " + 종류가 몇개인가요? (몰라요..)\n",
        " + Documentation : 함수를 설명해주는 문서 보는 법 익힐 것 (영어)\n",
        "\n",
        " - 라이브러리에서 제공하는 함수\n",
        " + R: 패키지, Python: 라이브러리\n",
        " + 목적이 분명\n",
        " - 웹사이트 개발 : 웹사이트와 관련된 라이브러리를 별도 설치 필요\n",
        " - 통계분석 : 통계분석과 관련된 라이브러리를 별도 설치 필요\n",
        " - 시각화 : 시각화와 관련된 라이브러리 설치\n",
        " - 게임개발 : 관련된 라이브러리 설치\n",
        " - 수치연산 주요라이브러리 : numpy*, scipy\n",
        ""
      ],
      "metadata": {
        "id": "DutubSBbzwU8"
      }
    },
    {
      "cell_type": "code",
      "source": [
        "# 파이썬에서 정수/실수 표현\n",
        "print(type(3))"
      ],
      "metadata": {
        "colab": {
          "base_uri": "https://localhost:8080/"
        },
        "id": "A2IfVsRiu-y_",
        "outputId": "0aeb95a2-0bcb-4617-991e-acb5d341db48"
      },
      "execution_count": 6,
      "outputs": [
        {
          "output_type": "stream",
          "name": "stdout",
          "text": [
            "<class 'int'>\n"
          ]
        }
      ]
    },
    {
      "cell_type": "markdown",
      "source": [
        "- 파이썬: 객체지향 언어"
      ],
      "metadata": {
        "id": "P50Cu_b62Cmi"
      }
    },
    {
      "cell_type": "markdown",
      "source": [
        "## 거듭제곱과 나머지\n",
        "- 숫자 A를 n번 곱하는 거듭제곱(Power)\n",
        "+ A는 밑, n은 지수라고 표현"
      ],
      "metadata": {
        "id": "05ipoulO2Iaw"
      }
    },
    {
      "cell_type": "code",
      "source": [
        "2 ** 5 # 거듭제곱"
      ],
      "metadata": {
        "colab": {
          "base_uri": "https://localhost:8080/"
        },
        "id": "1lYsfS7i2flz",
        "outputId": "fae634ea-f213-40af-f032-d6bd47cabeea"
      },
      "execution_count": 8,
      "outputs": [
        {
          "output_type": "execute_result",
          "data": {
            "text/plain": [
              "32"
            ]
          },
          "metadata": {},
          "execution_count": 8
        }
      ]
    },
    {
      "cell_type": "code",
      "source": [
        "# 나머지와 몫\n",
        "print(13 // 5)\n",
        "print(13 % 5)"
      ],
      "metadata": {
        "colab": {
          "base_uri": "https://localhost:8080/"
        },
        "id": "Pehmissd3JZU",
        "outputId": "9a5cef09-63f6-47af-8ec7-c72e0b043ceb"
      },
      "execution_count": 9,
      "outputs": [
        {
          "output_type": "stream",
          "name": "stdout",
          "text": [
            "2\n",
            "3\n"
          ]
        }
      ]
    },
    {
      "cell_type": "markdown",
      "source": [
        "## 과학적 표기법 (Scientific Notation)\n",
        "- 아주 큰 수, 작은 수를 다뤄야하는 케이스\n",
        "+ 빛은 초당 30만 km\n",
        "+ 단위를 m/s 표현하면, 300,000,000m/s\n",
        "+ 3x10^8"
      ],
      "metadata": {
        "id": "e0s7HqVi3pYG"
      }
    },
    {
      "cell_type": "code",
      "source": [
        "3*10**8"
      ],
      "metadata": {
        "colab": {
          "base_uri": "https://localhost:8080/"
        },
        "id": "BqTfm4zF4OsS",
        "outputId": "c0167eeb-1462-4d63-ac03-f250bacd3b88"
      },
      "execution_count": 10,
      "outputs": [
        {
          "output_type": "execute_result",
          "data": {
            "text/plain": [
              "300000000"
            ]
          },
          "metadata": {},
          "execution_count": 10
        }
      ]
    },
    {
      "cell_type": "code",
      "source": [
        "3e8"
      ],
      "metadata": {
        "colab": {
          "base_uri": "https://localhost:8080/"
        },
        "id": "Ta67JhlW4SgQ",
        "outputId": "faa1e770-5f19-44ae-d102-a13018f04f34"
      },
      "execution_count": 11,
      "outputs": [
        {
          "output_type": "execute_result",
          "data": {
            "text/plain": [
              "300000000.0"
            ]
          },
          "metadata": {},
          "execution_count": 11
        }
      ]
    },
    {
      "cell_type": "code",
      "source": [
        "3e-4"
      ],
      "metadata": {
        "colab": {
          "base_uri": "https://localhost:8080/"
        },
        "id": "tgWVTTqu4lNH",
        "outputId": "5dd05490-0d3a-4c19-cfde-80108a690cd8"
      },
      "execution_count": 12,
      "outputs": [
        {
          "output_type": "execute_result",
          "data": {
            "text/plain": [
              "0.0003"
            ]
          },
          "metadata": {},
          "execution_count": 12
        }
      ]
    },
    {
      "cell_type": "markdown",
      "source": [
        "## 진수표현과 변환\n",
        "- 일상생활에서는 10진법 사용\n",
        "- 60진법: 60초가 1분이고, 60분이 1시간\n",
        "- 12진법: 오전 12시간, 오후 12시간, 1년 12달\n",
        "- 컴퓨터 프로그래밍: 숫자 0과 1로 이루어진 2진법 수행\n",
        "- 8진법: 0~7까지의 숫자\n",
        "- 16진법: 0~9, a,b,c,d,e,f\n",
        "\n",
        "- 실제 분석에선 거의 쓸일 없다고 함"
      ],
      "metadata": {
        "id": "YPCPId8k5XMp"
      }
    },
    {
      "cell_type": "code",
      "source": [
        "print(17) # 10진법 decimal\n",
        "print(0b10001) # 2진법 binary\n",
        "print(0o21) # 8진법 octal\n",
        "print(0x11) # 16진법 hexadecimal"
      ],
      "metadata": {
        "colab": {
          "base_uri": "https://localhost:8080/"
        },
        "id": "Q65W5fDO6MLA",
        "outputId": "23c64ef9-08a8-405c-a1a9-d1338b7ff11e"
      },
      "execution_count": 15,
      "outputs": [
        {
          "output_type": "stream",
          "name": "stdout",
          "text": [
            "17\n",
            "17\n",
            "17\n",
            "17\n"
          ]
        }
      ]
    },
    {
      "cell_type": "markdown",
      "source": [
        "## 논리 연산 및 비교 연산 (매우 중요)\n",
        "- 참/거짓\n",
        "- 논리 연산을 잘 활용하는 것이 프로그래밍의 핵심\n",
        "- 실제 프로그래밍은 논리연산 구조로 되어있음!"
      ],
      "metadata": {
        "id": "Vc3rZBov7Riq"
      }
    },
    {
      "cell_type": "code",
      "source": [
        "print(True)\n",
        "print(False)\n",
        "print(type(True))"
      ],
      "metadata": {
        "colab": {
          "base_uri": "https://localhost:8080/"
        },
        "id": "1PgLcpVu79zU",
        "outputId": "4a44872e-24eb-4975-8129-be8222b3ef51"
      },
      "execution_count": 18,
      "outputs": [
        {
          "output_type": "stream",
          "name": "stdout",
          "text": [
            "True\n",
            "False\n",
            "<class 'bool'>\n"
          ]
        }
      ]
    },
    {
      "cell_type": "markdown",
      "source": [
        "### 논리 연산자\n",
        "- and : A and B : A,B 모두 참일 때 참\n",
        "- or : A or B : A,B 중 하나라도 참이면 참, 둘다 거짓일 때 거짓\n",
        "- not : not A : A가 참일 때 거짓, A가 거짓이면 참\n"
      ],
      "metadata": {
        "id": "4lM36Vtp8XD0"
      }
    },
    {
      "cell_type": "code",
      "source": [
        "print(not True)\n",
        "print(not False)"
      ],
      "metadata": {
        "colab": {
          "base_uri": "https://localhost:8080/"
        },
        "id": "M4qgCkkKBXcm",
        "outputId": "6b240823-608e-457d-b0a3-61eec640f295"
      },
      "execution_count": 21,
      "outputs": [
        {
          "output_type": "stream",
          "name": "stdout",
          "text": [
            "False\n",
            "True\n"
          ]
        }
      ]
    },
    {
      "cell_type": "code",
      "source": [
        "# True 또는 False 결과가 나오도록 \"의도적\"으로 조건식을 만들어야 함\n",
        "1 == 2"
      ],
      "metadata": {
        "colab": {
          "base_uri": "https://localhost:8080/"
        },
        "id": "F4YwJJUtCqIx",
        "outputId": "81457960-9335-4860-d6b4-197c94fd143a"
      },
      "execution_count": 22,
      "outputs": [
        {
          "output_type": "execute_result",
          "data": {
            "text/plain": [
              "False"
            ]
          },
          "metadata": {},
          "execution_count": 22
        }
      ]
    },
    {
      "cell_type": "markdown",
      "source": [
        "### 비교연산자 + 논리연산자\n"
      ],
      "metadata": {
        "id": "woTIJMlSEGWP"
      }
    },
    {
      "cell_type": "code",
      "source": [
        "1 > 0 and -2 < 0 # 비교연산자(1순위) 논리연산자(2순위)"
      ],
      "metadata": {
        "colab": {
          "base_uri": "https://localhost:8080/"
        },
        "id": "j7bRjly1EJVj",
        "outputId": "b5fea496-674a-4a3a-fc77-a5e23172a14c"
      },
      "execution_count": 23,
      "outputs": [
        {
          "output_type": "execute_result",
          "data": {
            "text/plain": [
              "True"
            ]
          },
          "metadata": {},
          "execution_count": 23
        }
      ]
    },
    {
      "cell_type": "markdown",
      "source": [
        "# Chapter 4. 변수와 자료형\n"
      ],
      "metadata": {
        "id": "SsEDRE4219xT"
      }
    },
    {
      "cell_type": "code",
      "source": [],
      "metadata": {
        "id": "GiSnfRPp779-"
      },
      "execution_count": null,
      "outputs": []
    }
  ]
}